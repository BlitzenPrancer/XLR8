{
 "cells": [
  {
   "cell_type": "markdown",
   "metadata": {},
   "source": [
    "# Zip is very useful way of quickly grouping together data that belongs together "
   ]
  },
  {
   "cell_type": "code",
   "execution_count": 13,
   "metadata": {},
   "outputs": [],
   "source": [
    "names = ['A', 'B', 'C', 'A']\n",
    "countries = ['Antartica', 'Bolivia', 'China', 'Antartica']"
   ]
  },
  {
   "cell_type": "code",
   "execution_count": 8,
   "metadata": {},
   "outputs": [
    {
     "name": "stdout",
     "output_type": "stream",
     "text": [
      "[('A', 'Antartica'), ('B', 'Bolivia'), ('C', 'China'), ('A', 'Antartica')]\n",
      "[('A', 'Antartica'), ('B', 'Bolivia'), ('C', 'China'), ('A', 'Antartica')]\n"
     ]
    },
    {
     "data": {
      "text/plain": [
       "[('A', 'Antartica'), ('B', 'Bolivia'), ('C', 'China'), ('A', 'Antartica')]"
      ]
     },
     "execution_count": 8,
     "metadata": {},
     "output_type": "execute_result"
    }
   ],
   "source": [
    "zipped = list(zip(names, countries))\n",
    "print(zipped)\n",
    "    # or\n",
    "zipped = [*zip(names, countries)]\n",
    "print(zipped)\n",
    "zipped\n"
   ]
  },
  {
   "cell_type": "code",
   "execution_count": null,
   "metadata": {},
   "outputs": [],
   "source": [
    "zipped = set(zip(names, countries))\n",
    "print(zipped)"
   ]
  },
  {
   "cell_type": "code",
   "execution_count": null,
   "metadata": {},
   "outputs": [],
   "source": [
    "zipped = dict(zip(names, countries))\n",
    "print(zipped)"
   ]
  },
  {
   "cell_type": "code",
   "execution_count": null,
   "metadata": {},
   "outputs": [],
   "source": [
    "zipped = zip(names, countries)\n",
    "for i, j in zipped:\n",
    "\tprint(i, j)"
   ]
  },
  {
   "cell_type": "code",
   "execution_count": 10,
   "metadata": {},
   "outputs": [
    {
     "data": {
      "text/plain": [
       "[(1, 1), (2, 2), (3, 3), (4, 4), (5, 5)]"
      ]
     },
     "execution_count": 10,
     "metadata": {},
     "output_type": "execute_result"
    }
   ],
   "source": [
    "# zip will continue up to the length of shortest input\n",
    "short = [1,2,3,4,5]\n",
    "long = [1,2,3,4,5,6,7,8,9.9]\n",
    "[*zip(short, long)]"
   ]
  },
  {
   "cell_type": "code",
   "execution_count": 12,
   "metadata": {},
   "outputs": [
    {
     "data": {
      "text/plain": [
       "[(1, 1),\n",
       " (2, 2),\n",
       " (3, 3),\n",
       " (4, 4),\n",
       " (5, 5),\n",
       " (None, 6),\n",
       " (None, 7),\n",
       " (None, 8),\n",
       " (None, 9.9)]"
      ]
     },
     "execution_count": 12,
     "metadata": {},
     "output_type": "execute_result"
    }
   ],
   "source": [
    "# if we want to keep all items, use itertools.zip_longest\n",
    "from itertools  import zip_longest\n",
    "short = [1,2,3,4,5]\n",
    "long = [1,2,3,4,5,6,7,8,9.9]\n",
    "[*zip_longest(short, long, fillvalue= None)]"
   ]
  }
 ],
 "metadata": {
  "interpreter": {
   "hash": "210c54361a84c720f68434e6d6c780fe99326daa37aad87f00c0a9928840c6bd"
  },
  "kernelspec": {
   "display_name": "Python 3.9.7 64-bit",
   "language": "python",
   "name": "python3"
  },
  "language_info": {
   "codemirror_mode": {
    "name": "ipython",
    "version": 3
   },
   "file_extension": ".py",
   "mimetype": "text/x-python",
   "name": "python",
   "nbconvert_exporter": "python",
   "pygments_lexer": "ipython3",
   "version": "3.9.7"
  },
  "orig_nbformat": 4
 },
 "nbformat": 4,
 "nbformat_minor": 2
}
